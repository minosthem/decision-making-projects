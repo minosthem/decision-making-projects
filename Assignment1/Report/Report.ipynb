{
 "cells": [
  {
   "cell_type": "markdown",
   "metadata": {},
   "source": [
    "# Assignment 1\n",
    "\n",
    "## Team\n",
    "\n",
    "### Part 1\n",
    "\n",
    "Created classes Item and ProblemInstance ....\n",
    "\n",
    "#### Code"
   ]
  },
  {
   "cell_type": "code",
   "execution_count": 1,
   "metadata": {},
   "outputs": [],
   "source": [
    "class ProblemInstance:\n",
    "    \"\"\"\n",
    "    ProblemInstance class represents a generated instance. It has only one field, i.e. items,\n",
    "    where the 10 generated items are stored\n",
    "    \"\"\"\n",
    "    items = []\n",
    "\n",
    "    def __init__(self, item_list=None):\n",
    "        if item_list is None:\n",
    "            item_list = []\n",
    "        self.items = item_list"
   ]
  },
  {
   "cell_type": "markdown",
   "metadata": {},
   "source": [
    "The other is ..."
   ]
  }
 ],
 "metadata": {
  "kernelspec": {
   "display_name": "Python 3",
   "language": "python",
   "name": "python3"
  },
  "language_info": {
   "codemirror_mode": {
    "name": "ipython",
    "version": 3
   },
   "file_extension": ".py",
   "mimetype": "text/x-python",
   "name": "python",
   "nbconvert_exporter": "python",
   "pygments_lexer": "ipython3",
   "version": "3.7.3"
  }
 },
 "nbformat": 4,
 "nbformat_minor": 2
}
